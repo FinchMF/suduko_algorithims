{
 "metadata": {
  "language_info": {
   "codemirror_mode": {
    "name": "ipython",
    "version": 3
   },
   "file_extension": ".py",
   "mimetype": "text/x-python",
   "name": "python",
   "nbconvert_exporter": "python",
   "pygments_lexer": "ipython3",
   "version": "3.7.6-final"
  },
  "orig_nbformat": 2,
  "kernelspec": {
   "name": "python3",
   "display_name": "Python 3"
  }
 },
 "nbformat": 4,
 "nbformat_minor": 2,
 "cells": [
  {
   "cell_type": "markdown",
   "metadata": {},
   "source": [
    "## Solving Sudoku with Optimized Backtracking Algorithim "
   ]
  },
  {
   "cell_type": "code",
   "execution_count": 1,
   "metadata": {},
   "outputs": [],
   "source": [
    "import time\n",
    "from utils import sudoku_tools as ST"
   ]
  },
  {
   "cell_type": "code",
   "execution_count": 2,
   "metadata": {
    "tags": []
   },
   "outputs": [
    {
     "output_type": "stream",
     "name": "stdout",
     "text": "╔═══╤═══╤═══╦═══╤═══╤═══╦═══╤═══╤═══╗\n║   │   │ 6 ║   │   │ 3 ║   │   │   ║\n╟───┼───┼───╫───┼───┼───╫───┼───┼───╢\n║ 1 │   │ 7 ║   │   │   ║   │   │   ║\n╟───┼───┼───╫───┼───┼───╫───┼───┼───╢\n║   │   │   ║   │   │ 4 ║   │ 7 │   ║\n╠═══╪═══╪═══╬═══╪═══╪═══╬═══╪═══╪═══╣\n║   │   │ 9 ║   │   │   ║ 8 │ 2 │   ║\n╟───┼───┼───╫───┼───┼───╫───┼───┼───╢\n║   │   │   ║ 4 │   │   ║   │   │   ║\n╟───┼───┼───╫───┼───┼───╫───┼───┼───╢\n║   │   │   ║   │ 2 │ 7 ║   │   │   ║\n╠═══╪═══╪═══╬═══╪═══╪═══╬═══╪═══╪═══╣\n║   │   │   ║ 7 │   │   ║   │   │   ║\n╟───┼───┼───╫───┼───┼───╫───┼───┼───╢\n║   │   │ 4 ║   │ 3 │ 9 ║ 7 │   │   ║\n╟───┼───┼───╫───┼───┼───╫───┼───┼───╢\n║   │   │ 8 ║   │   │   ║   │   │   ║\n╚═══╧═══╧═══╩═══╧═══╧═══╩═══╧═══╧═══╝\n"
    }
   ],
   "source": [
    "# instantiate core - this creates a valid solved game board (but does not allow you to print the solution)\n",
    "core = ST.Sudoku_Core(3)\n",
    "# transform core into a game board \n",
    "grid = core.gen_game_board()\n",
    "# pretty print game board\n",
    "core.pretty_print_board()"
   ]
  },
  {
   "cell_type": "code",
   "execution_count": 3,
   "metadata": {
    "tags": []
   },
   "outputs": [
    {
     "output_type": "stream",
     "name": "stdout",
     "text": "Sudoku has been solved! \nsearch space is 2971790232218078802982199766210138212501550961211172731253271925096448\nempty cells: 77, iterations: 304, backtrack iterations: 226\n[1, 2, 6, 4, 5, 3, 7, 8, 9]\n[3, 4, 7, 1, 8, 9, 2, 5, 6]\n[5, 8, 9, 2, 6, 7, 1, 3, 4]\n[2, 1, 3, 5, 4, 6, 8, 9, 7]\n[4, 6, 5, 9, 7, 8, 3, 1, 2]\n[7, 9, 8, 3, 1, 2, 4, 6, 5]\n[6, 3, 1, 7, 2, 5, 9, 4, 8]\n[8, 7, 4, 6, 9, 1, 5, 2, 3]\n[9, 5, 2, 8, 3, 4, 6, 7, 1]\nsolved in 0.008296012878417969 seconds\n"
    }
   ],
   "source": [
    "# instantiate solver, passing in the generated game board from core\n",
    "solver = ST.Sudoku_Logic(grid)\n",
    "# set start time to pass through solve function\n",
    "start = time.time()\n",
    "# call solve method, using optimization \"A0\" moving along game board left to right, starting with lowest digit available while in main search as well as when backtracking is needed\n",
    "solver.solve(\"A\", \"0\", time.time(), False)\n",
    "# print current difference between set start time and current time to evaluate solver's speed\n",
    "print(f'solved in {time.time() - start} seconds')"
   ]
  },
  {
   "cell_type": "markdown",
   "metadata": {},
   "source": [
    "# The output of the solver five statements:\n",
    "        - The first declares if the puzzle is solved or if the puzzle is unsolvable\n",
    "        - The second shows the search space needed to solve the puzzle\n",
    "        - The third shows how many empty cells the puzzle began with, how many iterations the algorithim used to solve the puzzle and the amount of backtracks the algorithim needed to use to reach the solution\n",
    "        - The fourth shows the game board solved as 9by9 matrix\n",
    "        - The fifth shows the time taken by the algorithim to achieve the solution\n",
    "\n",
    "# Optimization Options:\n",
    "\n",
    "\n",
    "        The next blank cell can be chosen in the following ways:\n",
    "\n",
    "        A - the first cell from left to right, from top to bottom\n",
    "        B - the first cell from right to left, from bottom to top\n",
    "        C - a randomly chosen cell\n",
    "        D - the closest cell to the center of the grid\n",
    "        E - the cell that currently has the fewest choices available (choice here means a digit from 1 to 9)\n",
    "        F - the cell that currently has the most choices available\n",
    "        G - the cell that has the fewest blank related cells (a related cells is one from the same row, from the same column or from the same 3x3 quadrant)\n",
    "        H - the cell that has the most blank related cells\n",
    "        I - the cell that is closest to all filled cells (as measured from cell center point to cell center point)\n",
    "        J - the cell that is furthest from all filled cells\n",
    "        K - the cell whose related blank cells have the fewest available choices\n",
    "        L - the cell whose related blank cells have the most available choices\n",
    "        \n",
    "        And the next digit can be chosen in the following ways:\n",
    "\n",
    "        0 - the lowest digit\n",
    "        1 - the highest digit\n",
    "        2 - a randomly chosen digit\n",
    "        3 - heuristically, the least used digit across the board\n",
    "        4 - heuristically, the most used digit across the board\n",
    "        5 - the digit that will cause related blank cells to have the least number of choices available\n",
    "        6 - the digit that will cause related blank cells to have the most number of choices available\n",
    "        7 - the digit that is the least common available choice among related blank cells\n",
    "        8 - the digit that is the most common available choice among related blank cells\n",
    "        9 - the digit that is the least common available choice across the board\n",
    "        a - the digit that is the most common available choice across the board\n",
    "\n",
    "Optimization method implemented from https://stackoverflow.com/users/870802/svinec"
   ]
  },
  {
   "cell_type": "code",
   "execution_count": 4,
   "metadata": {},
   "outputs": [],
   "source": [
    "# Below is what I could find on the internet as the hardest sudoku puzzle\n",
    "# When the puzzle isn't generated by core, you can input a puzzle by makeing a 9by9 matrix and assigning it to a variable\n",
    "hardest_sudoku = [\n",
    "    [8,0,0,0,0,0,0,0,0],\n",
    "    [0,0,3,6,0,0,0,0,0],\n",
    "    [0,7,0,0,9,0,2,0,0],\n",
    "    [0,5,0,0,0,7,0,0,0],\n",
    "    [0,0,0,0,4,5,7,0,0],\n",
    "    [0,0,0,1,0,0,0,3,0],\n",
    "    [0,0,1,0,0,0,0,6,8],\n",
    "    [0,0,8,5,0,0,0,1,0],\n",
    "    [0,9,0,0,0,0,4,0,0]]"
   ]
  },
  {
   "cell_type": "code",
   "execution_count": 5,
   "metadata": {
    "tags": []
   },
   "outputs": [
    {
     "output_type": "stream",
     "name": "stdout",
     "text": "Sudoku has been solved! \nsearch space is 9586591201964851200000000000000000000\nempty cells: 60, iterations: 49559, backtrack iterations: 49498\n[8, 1, 2, 7, 5, 3, 6, 4, 9]\n[9, 4, 3, 6, 8, 2, 1, 7, 5]\n[6, 7, 5, 4, 9, 1, 2, 8, 3]\n[1, 5, 4, 2, 3, 7, 8, 9, 6]\n[3, 6, 9, 8, 4, 5, 7, 2, 1]\n[2, 8, 7, 1, 6, 9, 5, 3, 4]\n[5, 2, 1, 9, 7, 4, 3, 6, 8]\n[4, 3, 8, 5, 2, 6, 9, 1, 7]\n[7, 9, 6, 3, 1, 8, 4, 5, 2]\nsolved in 0.9448070526123047 seconds\n"
    }
   ],
   "source": [
    "# here we use the same process as above to solve the hardest sudoku\n",
    "# we can see that the search space is smaller --  we start with less empty cells and it takes more iterations, foward and back to acheive the solution\n",
    "# And almost takes an entire second to solve\n",
    "hardest_solver = ST.Sudoku_Logic(hardest_sudoku)\n",
    "start = time.time()\n",
    "hardest_solver.solve(\"A\", \"0\", time.time(), False)\n",
    "print(f'solved in {time.time() - start} seconds')"
   ]
  }
 ]
}