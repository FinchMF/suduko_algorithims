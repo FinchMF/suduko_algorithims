{
 "metadata": {
  "language_info": {
   "codemirror_mode": {
    "name": "ipython",
    "version": 3
   },
   "file_extension": ".py",
   "mimetype": "text/x-python",
   "name": "python",
   "nbconvert_exporter": "python",
   "pygments_lexer": "ipython3",
   "version": "3.7.6-final"
  },
  "orig_nbformat": 2,
  "kernelspec": {
   "name": "python3",
   "display_name": "Python 3"
  }
 },
 "nbformat": 4,
 "nbformat_minor": 2,
 "cells": [
  {
   "cell_type": "code",
   "execution_count": 1,
   "metadata": {},
   "outputs": [],
   "source": [
    "import time\n",
    "from utils import sudoku_tools as ST"
   ]
  },
  {
   "cell_type": "code",
   "execution_count": 2,
   "metadata": {
    "tags": []
   },
   "outputs": [
    {
     "output_type": "stream",
     "name": "stdout",
     "text": "╔═══╤═══╤═══╦═══╤═══╤═══╦═══╤═══╤═══╗\n║   │   │ 6 ║   │   │ 3 ║   │   │   ║\n╟───┼───┼───╫───┼───┼───╫───┼───┼───╢\n║ 1 │   │ 7 ║   │   │   ║   │   │   ║\n╟───┼───┼───╫───┼───┼───╫───┼───┼───╢\n║   │   │   ║   │   │ 4 ║   │ 7 │   ║\n╠═══╪═══╪═══╬═══╪═══╪═══╬═══╪═══╪═══╣\n║   │   │ 9 ║   │   │   ║ 8 │ 2 │   ║\n╟───┼───┼───╫───┼───┼───╫───┼───┼───╢\n║   │   │   ║ 4 │   │   ║   │   │   ║\n╟───┼───┼───╫───┼───┼───╫───┼───┼───╢\n║   │   │   ║   │ 2 │ 7 ║   │   │   ║\n╠═══╪═══╪═══╬═══╪═══╪═══╬═══╪═══╪═══╣\n║   │   │   ║ 7 │   │   ║   │   │   ║\n╟───┼───┼───╫───┼───┼───╫───┼───┼───╢\n║   │   │ 4 ║   │ 3 │ 9 ║ 7 │   │   ║\n╟───┼───┼───╫───┼───┼───╫───┼───┼───╢\n║   │   │ 8 ║   │   │   ║   │   │   ║\n╚═══╧═══╧═══╩═══╧═══╧═══╩═══╧═══╧═══╝\n"
    }
   ],
   "source": [
    "core = ST.Sudoku_Core(3)\n",
    "grid = core.gen_game_board()\n",
    "core.pretty_print_board()"
   ]
  },
  {
   "cell_type": "code",
   "execution_count": 3,
   "metadata": {
    "tags": []
   },
   "outputs": [
    {
     "output_type": "stream",
     "name": "stdout",
     "text": "Sudoku has been solved! \nsearch space is 2971790232218078802982199766210138212501550961211172731253271925096448\nempty cells: 77, iterations: 304, backtrack iterations: 226\n[1, 2, 6, 4, 5, 3, 7, 8, 9]\n[3, 4, 7, 1, 8, 9, 2, 5, 6]\n[5, 8, 9, 2, 6, 7, 1, 3, 4]\n[2, 1, 3, 5, 4, 6, 8, 9, 7]\n[4, 6, 5, 9, 7, 8, 3, 1, 2]\n[7, 9, 8, 3, 1, 2, 4, 6, 5]\n[6, 3, 1, 7, 2, 5, 9, 4, 8]\n[8, 7, 4, 6, 9, 1, 5, 2, 3]\n[9, 5, 2, 8, 3, 4, 6, 7, 1]\nsolved in 0.008296012878417969 seconds\n"
    }
   ],
   "source": [
    "solver = ST.Sudoku_Logic(grid)\n",
    "start = time.time()\n",
    "solver.solve(\"A\", \"0\", time.time(), False)\n",
    "print(f'solved in {time.time() - start} seconds')"
   ]
  },
  {
   "cell_type": "code",
   "execution_count": 4,
   "metadata": {},
   "outputs": [],
   "source": [
    "hardest_sudoku = [\n",
    "    [8,0,0,0,0,0,0,0,0],\n",
    "    [0,0,3,6,0,0,0,0,0],\n",
    "    [0,7,0,0,9,0,2,0,0],\n",
    "    [0,5,0,0,0,7,0,0,0],\n",
    "    [0,0,0,0,4,5,7,0,0],\n",
    "    [0,0,0,1,0,0,0,3,0],\n",
    "    [0,0,1,0,0,0,0,6,8],\n",
    "    [0,0,8,5,0,0,0,1,0],\n",
    "    [0,9,0,0,0,0,4,0,0]]"
   ]
  },
  {
   "cell_type": "code",
   "execution_count": 5,
   "metadata": {
    "tags": []
   },
   "outputs": [
    {
     "output_type": "stream",
     "name": "stdout",
     "text": "Sudoku has been solved! \nsearch space is 9586591201964851200000000000000000000\nempty cells: 60, iterations: 49559, backtrack iterations: 49498\n[8, 1, 2, 7, 5, 3, 6, 4, 9]\n[9, 4, 3, 6, 8, 2, 1, 7, 5]\n[6, 7, 5, 4, 9, 1, 2, 8, 3]\n[1, 5, 4, 2, 3, 7, 8, 9, 6]\n[3, 6, 9, 8, 4, 5, 7, 2, 1]\n[2, 8, 7, 1, 6, 9, 5, 3, 4]\n[5, 2, 1, 9, 7, 4, 3, 6, 8]\n[4, 3, 8, 5, 2, 6, 9, 1, 7]\n[7, 9, 6, 3, 1, 8, 4, 5, 2]\nsolved in 0.9448070526123047 seconds\n"
    }
   ],
   "source": [
    "hardest_solver = ST.Sudoku_Logic(hardest_sudoku)\n",
    "start = time.time()\n",
    "hardest_solver.solve(\"A\", \"0\", time.time(), False)\n",
    "print(f'solved in {time.time() - start} seconds')"
   ]
  },
  {
   "cell_type": "code",
   "execution_count": null,
   "metadata": {},
   "outputs": [],
   "source": []
  }
 ]
}