{
 "metadata": {
  "language_info": {
   "codemirror_mode": {
    "name": "ipython",
    "version": 3
   },
   "file_extension": ".py",
   "mimetype": "text/x-python",
   "name": "python",
   "nbconvert_exporter": "python",
   "pygments_lexer": "ipython3",
   "version": "3.7.6-final"
  },
  "orig_nbformat": 2,
  "kernelspec": {
   "name": "python3",
   "display_name": "Python 3"
  }
 },
 "nbformat": 4,
 "nbformat_minor": 2,
 "cells": [
  {
   "cell_type": "code",
   "execution_count": 1,
   "metadata": {},
   "outputs": [
    {
     "output_type": "execute_result",
     "data": {
      "text/plain": "'/Volumes/S200408/Coding/sudoku/suduko_algorithims'"
     },
     "metadata": {},
     "execution_count": 1
    }
   ],
   "source": [
    "pwd"
   ]
  },
  {
   "cell_type": "code",
   "execution_count": 2,
   "metadata": {
    "tags": []
   },
   "outputs": [
    {
     "output_type": "stream",
     "name": "stdout",
     "text": "/Volumes/S200408/Coding/sudoku/suduko_algorithims/utils\n"
    }
   ],
   "source": [
    "cd utils"
   ]
  },
  {
   "cell_type": "code",
   "execution_count": 3,
   "metadata": {
    "tags": []
   },
   "outputs": [
    {
     "output_type": "stream",
     "name": "stdout",
     "text": "\u001b[31m__init__.py\u001b[m\u001b[m*                    \u001b[31mhelper.py\u001b[m\u001b[m*\n\u001b[30m\u001b[43m__pycache__\u001b[m\u001b[m/                    \u001b[31mrnn_data_prepocess.py\u001b[m\u001b[m*\n\u001b[30m\u001b[43mdata\u001b[m\u001b[m/                           \u001b[31mrnn_solver.py\u001b[m\u001b[m*\n\u001b[31mdeep_solver.py\u001b[m\u001b[m*                 \u001b[31mrnn_trainer.py\u001b[m\u001b[m*\n\u001b[31mdeep_solver_data_preprocess.py\u001b[m\u001b[m* \u001b[31msudoku_tools.py\u001b[m\u001b[m*\n"
    }
   ],
   "source": [
    "ls"
   ]
  },
  {
   "cell_type": "code",
   "execution_count": 5,
   "metadata": {
    "tags": []
   },
   "outputs": [
    {
     "output_type": "stream",
     "name": "stdout",
     "text": "Epoch 0 batch 0: 0.058733850717544556\nCells in error: 3989\nEpoch 0 batch 1: 0.05735279247164726\nCells in error: 3713\nEpoch 0 batch 2: 0.056855276226997375\nCells in error: 3124\nEpoch 0 batch 3: 0.055943261831998825\nCells in error: 2700\nEpoch 0 batch 4: 0.054857287555933\nCells in error: 2301\nEpoch 0 batch 5: 0.0536390095949173\nCells in error: 1799\nEpoch 0 batch 6: 0.051526833325624466\nCells in error: 1519\nEpoch 0 batch 7: 0.04933398589491844\nCells in error: 1512\nEpoch 0 batch 8: 0.04744916409254074\nCells in error: 1345\nEpoch 0 batch 9: 0.04397948458790779\nCells in error: 1235\nEpoch 0 batch 10: 0.041811518371105194\nCells in error: 1177\nEpoch 0 batch 11: 0.038045600056648254\nCells in error: 1152\nEpoch 0 batch 12: 0.03441346809267998\nCells in error: 1127\nEpoch 0 batch 13: 0.031892478466033936\nCells in error: 959\nEpoch 0 batch 14: 0.028786785900592804\nCells in error: 796\nEpoch 0 batch 15: 0.023935506120324135\nCells in error: 738\nEpoch 0 batch 16: 0.021411744877696037\nCells in error: 676\nEpoch 0 batch 17: 0.019838638603687286\nCells in error: 645\nEpoch 0 batch 18: 0.01662398688495159\nCells in error: 526\nEpoch 0 batch 19: 0.016435712575912476\nCells in error: 545\nEpoch 0 batch 20: 0.013771221973001957\nCells in error: 544\nEpoch 0 batch 21: 0.013017605058848858\nCells in error: 551\nEpoch 0 batch 22: 0.011336838826537132\nCells in error: 500\nEpoch 0 batch 23: 0.011730719357728958\nCells in error: 419\nEpoch 0 batch 24: 0.010182827711105347\nCells in error: 357\nEpoch 0 batch 25: 0.01060994528234005\nCells in error: 492\nEpoch 0 batch 26: 0.00823499821126461\nCells in error: 320\nEpoch 0 batch 27: 0.009599199518561363\nCells in error: 313\nEpoch 0 batch 28: 0.007669512182474136\nCells in error: 311\nEpoch 0 batch 29: 0.006793184671550989\nCells in error: 312\nEpoch 0 batch 30: 0.006480447947978973\nCells in error: 313\nEpoch 0 batch 31: 0.0057984162122011185\nCells in error: 458\nEpoch 0 batch 32: 0.009491140954196453\nCells in error: 414\nEpoch 0 batch 33: 0.009890270419418812\nCells in error: 296\nEpoch 0 batch 34: 0.008517836220562458\nCells in error: 270\nEpoch 0 batch 35: 0.008037579245865345\nCells in error: 212\nEpoch 0 batch 36: 0.0065652597695589066\nCells in error: 218\nEpoch 0 batch 37: 0.006396553013473749\nCells in error: 77\nEpoch 0 batch 38: 0.002935325261205435\nCells in error: 54\nEpoch 0 batch 39: 0.0007381224422715604\nCells in error: 28\nEpoch 0 batch 40: 0.0004975217743776739\nCells in error: 10\nEpoch 0 batch 41: 0.00013432402920443565\nCells in error: 11\nEpoch 0 batch 42: 7.339669537032023e-05\nCells in error: 10\nEpoch 0 batch 43: 0.00014150906645227224\nCells in error: 11\nEpoch 0 batch 44: 6.52970265946351e-05\nCells in error: 0\nEpoch 0 batch 45: 6.756209040759131e-05\nCells in error: 0\nEpoch 0 batch 46: 0.0003024203469976783\nCells in error: 0\nEpoch 0 batch 47: 0.0005106148892082274\nCells in error: 0\nEpoch 0 batch 48: 5.977192267891951e-05\nCells in error: 0\nEpoch 0 batch 49: 0.00010792750254040584\nCells in error: 0\nEpoch 1 batch 0: 5.181122469366528e-05\nCells in error: 0\nEpoch 1 batch 1: 0.0001387125375913456\nCells in error: 16\nEpoch 1 batch 2: 0.0002479768299963325\nCells in error: 0\nEpoch 1 batch 3: 9.534080163575709e-05\nCells in error: 17\nEpoch 1 batch 4: 0.0003497712023090571\nCells in error: 0\nEpoch 1 batch 5: 4.431164052220993e-05\nCells in error: 0\nEpoch 1 batch 6: 3.952305269194767e-05\nCells in error: 0\nEpoch 1 batch 7: 3.880773874698207e-05\nCells in error: 0\nEpoch 1 batch 8: 3.553367423592135e-05\nCells in error: 0\nEpoch 1 batch 9: 3.644623211584985e-05\nCells in error: 0\nEpoch 1 batch 10: 3.4128759580198675e-05\nCells in error: 0\nEpoch 1 batch 11: 3.410030694794841e-05\nCells in error: 0\nEpoch 1 batch 12: 3.340153853059746e-05\n^C\nTraceback (most recent call last):\n  File \"rnn_trainer.py\", line 49, in <module>\n    test_pred, test_fill = sudoku_solver(test_set.tensors[0][rows])\n  File \"/Users/finchmf/opt/anaconda3/lib/python3.7/site-packages/torch/nn/modules/module.py\", line 550, in __call__\n    result = self.forward(*input, **kwargs)\n  File \"/Volumes/S200408/Coding/sudoku/suduko_algorithims/utils/rnn_solver.py\", line 31, in forward\n    constraints = (x.view(bts, 1, 1, n * n, n) * c).sum(dim=3)\nKeyboardInterrupt\n"
    }
   ],
   "source": [
    "!python rnn_trainer.py"
   ]
  },
  {
   "cell_type": "code",
   "execution_count": null,
   "metadata": {},
   "outputs": [],
   "source": []
  }
 ]
}