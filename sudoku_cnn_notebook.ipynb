{
 "metadata": {
  "language_info": {
   "codemirror_mode": {
    "name": "ipython",
    "version": 3
   },
   "file_extension": ".py",
   "mimetype": "text/x-python",
   "name": "python",
   "nbconvert_exporter": "python",
   "pygments_lexer": "ipython3",
   "version": "3.7.6-final"
  },
  "orig_nbformat": 2,
  "kernelspec": {
   "name": "python3",
   "display_name": "Python 3"
  }
 },
 "nbformat": 4,
 "nbformat_minor": 2,
 "cells": [
  {
   "cell_type": "markdown",
   "metadata": {},
   "source": [
    "# Solving Sudoku with Deep Convolutional Neural Network (keras implementation)"
   ]
  },
  {
   "cell_type": "code",
   "execution_count": 1,
   "metadata": {},
   "outputs": [],
   "source": [
    "import copy\n",
    "import keras\n",
    "import numpy as np\n",
    "from utils import deep_solver as ds\n",
    "from utils import deep_solver_data_preprocess as data"
   ]
  },
  {
   "cell_type": "markdown",
   "metadata": {},
   "source": [
    "### Difference Between using an algorithim vs deep learning\n",
    "\n",
    "The main difference between making the algorithimic solver vs using deep learning is that the algorithimic solver does not learn a fundamental relationship between puzzles and solutions. The algorithimic solver starts fresh with each puzzle and follows its algorithim to efficently search for the solution. Deep learning, in this case, will use a dataset of over a million puzzles and solutions (from kaggle), to learn the relationship between the puzzle and the solution -- and with this learned relationship, return the solution given a new puzzle."
   ]
  },
  {
   "cell_type": "code",
   "execution_count": 2,
   "metadata": {},
   "outputs": [],
   "source": [
    "# pull in dataset and make train test split\n",
    "x_train, x_test, y_train, y_test = data.get_data('utils/data/sudoku.csv')"
   ]
  },
  {
   "cell_type": "code",
   "execution_count": 3,
   "metadata": {
    "tags": []
   },
   "outputs": [
    {
     "output_type": "stream",
     "name": "stdout",
     "text": "Epoch 1/2\n25000/25000 [==============================] - 1006s 40ms/step - loss: 0.4447\nEpoch 2/2\n25000/25000 [==============================] - 1016s 41ms/step - loss: 0.3587\n"
    },
    {
     "output_type": "execute_result",
     "data": {
      "text/plain": "<tensorflow.python.keras.callbacks.History at 0x7fe124c58590>"
     },
     "metadata": {},
     "execution_count": 3
    }
   ],
   "source": [
    "# instantiate DCNN\n",
    "model = ds.suduko_network()\n",
    "# set optimization and learning rate\n",
    "adam = keras.optimizers.Adam(lr=.001)\n",
    "# we use sparse categorical cross entropy because this is a multi-class classificaiton where each class (solution) is a unique for each data point (puzzle)\n",
    "model.compile(loss='sparse_categorical_crossentropy', optimizer=adam)\n",
    "# train the model\n",
    "model.fit(x_train, y_train, batch_size=32, epochs=2)"
   ]
  },
  {
   "cell_type": "code",
   "execution_count": 4,
   "metadata": {},
   "outputs": [],
   "source": [
    "from utils.helper import norm, denorm"
   ]
  },
  {
   "cell_type": "code",
   "execution_count": 5,
   "metadata": {},
   "outputs": [],
   "source": [
    "# Once the model is trained, it is used to infer what digit should be in each cell, left to right, top to bottom based on what is has learned\n",
    "def inference_sudoku(sample):\n",
    "    \n",
    "    '''\n",
    "        This function solve the sudoku by filling blank positions one by one.\n",
    "    '''\n",
    "    \n",
    "    feat = copy.copy(sample)\n",
    "    \n",
    "    while(1):\n",
    "    \n",
    "        out = model.predict(feat.reshape((1,9,9,1)))  \n",
    "        out = out.squeeze()\n",
    "\n",
    "        pred = np.argmax(out, axis=1).reshape((9,9))+1 \n",
    "        prob = np.around(np.max(out, axis=1).reshape((9,9)), 2) \n",
    "        \n",
    "        feat = denorm(feat).reshape((9,9))\n",
    "        mask = (feat==0)\n",
    "     \n",
    "        if(mask.sum()==0):\n",
    "            break\n",
    "            \n",
    "        prob_new = prob*mask\n",
    "    \n",
    "        ind = np.argmax(prob_new)\n",
    "        x, y = (ind//9), (ind%9)\n",
    "\n",
    "        val = pred[x][y]\n",
    "        feat[x][y] = val\n",
    "        feat = norm(feat)\n",
    "    \n",
    "    return pred"
   ]
  },
  {
   "cell_type": "code",
   "execution_count": 6,
   "metadata": {},
   "outputs": [],
   "source": [
    "# test the accuracy of the inference\n",
    "# we can measure accuracy by taking the number of correct and dividing it by the index 1 of the feature shape (this number is the number of empty cells that need to be inferred to acheive the solution)\n",
    "def test_accuracy(feats, labels):\n",
    "    \n",
    "    correct = 0\n",
    "    \n",
    "    for i,feat in enumerate(feats):\n",
    "        \n",
    "        pred = inference_sudoku(feat)\n",
    "        \n",
    "        true = labels[i].reshape((9,9))+1\n",
    "        \n",
    "        if(abs(true - pred).sum()==0):\n",
    "            correct += 1\n",
    "        \n",
    "    print(correct/feats.shape[0])"
   ]
  },
  {
   "cell_type": "code",
   "execution_count": 7,
   "metadata": {
    "tags": []
   },
   "outputs": [
    {
     "output_type": "stream",
     "name": "stdout",
     "text": "1.0\n"
    }
   ],
   "source": [
    "# if 100% accurate - a return of 1 will be printed as correct divided by how many need to be correct should be the same number divided by itself\n",
    "test_accuracy(x_test[:100], y_test[:100])"
   ]
  },
  {
   "cell_type": "code",
   "execution_count": 8,
   "metadata": {},
   "outputs": [],
   "source": [
    "# once we know the inference function is accuracy using the trained DCNN, then we write our solve function\n",
    "def solve_sudoku(game):\n",
    "    \n",
    "    game = game.replace('\\n', '')\n",
    "    game = game.replace(' ', '')\n",
    "    game = np.array([int(j) for j in game]).reshape((9,9,1))\n",
    "    game = norm(game)\n",
    "    game = inference_sudoku(game)\n",
    "    return game"
   ]
  },
  {
   "cell_type": "code",
   "execution_count": 9,
   "metadata": {
    "tags": []
   },
   "outputs": [
    {
     "output_type": "stream",
     "name": "stdout",
     "text": "solved puzzle:\n\n[[4 8 9 5 3 2 7 6 1]\n [7 1 3 4 8 6 5 9 2]\n [5 6 2 9 1 7 8 3 4]\n [2 5 8 3 4 1 9 7 6]\n [6 3 1 7 5 9 2 4 8]\n [9 4 7 2 6 8 1 5 3]\n [1 2 5 6 7 3 4 8 9]\n [8 7 6 1 9 4 3 2 5]\n [3 9 4 8 2 5 6 1 7]]\n"
    }
   ],
   "source": [
    "# the grid is input as a string rather than matrix, because the matriziation is handled in the inference funciton\n",
    "game = '''\n",
    "          0 8 0 0 3 2 0 0 1\n",
    "          7 0 3 0 8 0 0 0 2\n",
    "          5 0 0 0 0 7 0 3 0\n",
    "          0 5 0 0 0 1 9 7 0\n",
    "          6 0 0 7 0 9 0 0 8\n",
    "          0 4 7 2 0 0 0 5 0\n",
    "          0 2 0 6 0 0 0 0 9\n",
    "          8 0 0 0 9 0 3 0 5\n",
    "          3 0 0 8 2 0 0 1 0\n",
    "      '''\n",
    "# pass game through solver and print solution\n",
    "game = solve_sudoku(game)\n",
    "\n",
    "print('solved puzzle:\\n')\n",
    "print(game)"
   ]
  },
  {
   "cell_type": "code",
   "execution_count": 10,
   "metadata": {},
   "outputs": [
    {
     "output_type": "execute_result",
     "data": {
      "text/plain": "array([45, 45, 45, 45, 45, 45, 45, 45, 45])"
     },
     "metadata": {},
     "execution_count": 10
    }
   ],
   "source": [
    "# to further prove that game is solved accurately we can add the digits in each column. If we get 9 45s, then we can see that each column contains digits 1 - 9\n",
    "np.sum(game, axis=1)"
   ]
  }
 ]
}